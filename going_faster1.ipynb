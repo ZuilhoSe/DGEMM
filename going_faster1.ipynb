{
 "cells": [
  {
   "cell_type": "code",
   "execution_count": 2,
   "metadata": {},
   "outputs": [],
   "source": [
    "#import random\n",
    "import numpy as np\n",
    "import numpy.random as npr\n",
    "import time"
   ]
  },
  {
   "cell_type": "code",
   "execution_count": 4,
   "metadata": {},
   "outputs": [],
   "source": [
    "#Create matrix\n",
    "tam = 4096\n",
    "m = []\n",
    "n = []\n",
    "\n",
    "for i in range(tam):\n",
    "    m.append([])\n",
    "    n.append([])\n",
    "    for j in range(tam):\n",
    "        m[i].append(npr.uniform(0, 1))\n",
    "        n[i].append(npr.uniform(0, 1))"
   ]
  },
  {
   "cell_type": "code",
   "execution_count": 5,
   "metadata": {},
   "outputs": [],
   "source": [
    "c = [[0]*tam]*tam"
   ]
  },
  {
   "cell_type": "code",
   "execution_count": 6,
   "metadata": {},
   "outputs": [
    {
     "name": "stdout",
     "output_type": "stream",
     "text": [
      "Time:  3.3342719078063965\n"
     ]
    }
   ],
   "source": [
    "a = np.array(m)\n",
    "b = np.array(n)\n",
    "\n",
    "#Multiplication\n",
    "start = time.time()\n",
    "c = np.dot(a, b)\n",
    "end = time.time()\n",
    "\n",
    "print(\"Time: \", end - start)"
   ]
  },
  {
   "cell_type": "code",
   "execution_count": 14,
   "metadata": {},
   "outputs": [
    {
     "data": {
      "text/plain": [
       "44480.730060100555"
      ]
     },
     "execution_count": 14,
     "metadata": {},
     "output_type": "execute_result"
    }
   ],
   "source": [
    "t0 = time.time()\n",
    "for i in range(tam):\n",
    "    for j in range(tam):\n",
    "        for k in range(tam):\n",
    "            c[i][j] += m[i][k] * n[k][j]\n",
    "t1 = time.time()\n",
    "tempo = t1 - t0\n",
    "tempo"
   ]
  }
 ],
 "metadata": {
  "kernelspec": {
   "display_name": "base",
   "language": "python",
   "name": "python3"
  },
  "language_info": {
   "codemirror_mode": {
    "name": "ipython",
    "version": 3
   },
   "file_extension": ".py",
   "mimetype": "text/x-python",
   "name": "python",
   "nbconvert_exporter": "python",
   "pygments_lexer": "ipython3",
   "version": "3.9.12"
  },
  "orig_nbformat": 4
 },
 "nbformat": 4,
 "nbformat_minor": 2
}
